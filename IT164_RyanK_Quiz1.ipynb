{
  "nbformat": 4,
  "nbformat_minor": 0,
  "metadata": {
    "colab": {
      "provenance": [],
      "authorship_tag": "ABX9TyND9UE2xjjA4dwy+sQqX3OU",
      "include_colab_link": true
    },
    "kernelspec": {
      "name": "python3",
      "display_name": "Python 3"
    },
    "language_info": {
      "name": "python"
    }
  },
  "cells": [
    {
      "cell_type": "markdown",
      "metadata": {
        "id": "view-in-github",
        "colab_type": "text"
      },
      "source": [
        "<a href=\"https://colab.research.google.com/github/rekrako/classexercises/blob/main/IT164_RyanK_Quiz1.ipynb\" target=\"_parent\"><img src=\"https://colab.research.google.com/assets/colab-badge.svg\" alt=\"Open In Colab\"/></a>"
      ]
    },
    {
      "cell_type": "code",
      "execution_count": 11,
      "metadata": {
        "colab": {
          "base_uri": "https://localhost:8080/"
        },
        "id": "z-zg97bhT9zY",
        "outputId": "10517cf7-4458-4b07-fec5-dfe03c253175"
      },
      "outputs": [
        {
          "output_type": "stream",
          "name": "stdout",
          "text": [
            "Enter width of rectangle: 2.7\n",
            "Enter height of the rectangle: 4.1\n",
            "The perimeter of the rectangle is 22.14 and the area of the rectangle is 11.07\n"
          ]
        }
      ],
      "source": [
        "#Question 1 \n",
        "width=float(input(\"Enter width of rectangle: \"))\n",
        "height=float(input(\"Enter height of the rectangle: \"))\n",
        "perimeter=float(2 * (width * height))\n",
        "area= float((width * height))\n",
        "print(\"The perimeter of the rectangle is\", round(perimeter,ndigits=2) , \"and the area of the rectangle is\", round(area,ndigits=2))\n",
        "\n"
      ]
    },
    {
      "cell_type": "code",
      "source": [
        "#Question2\n",
        "weight=int(input(\"Enter weight in lbs: \"))\n",
        "height=int(input(\"Enter height in inches: \"))\n",
        "BMI=(weight/(height**2) * 703)\n",
        "print(\"THE BMI of your weight {:.1f} and height {:.1f} is {:.1f} \\n\".format(weight, height, BMI))\n",
        "\n"
      ],
      "metadata": {
        "colab": {
          "base_uri": "https://localhost:8080/"
        },
        "id": "ImbBtiSEdVRl",
        "outputId": "8e6cf4a7-de6e-4f73-df42-5984c658526d"
      },
      "execution_count": 10,
      "outputs": [
        {
          "output_type": "stream",
          "name": "stdout",
          "text": [
            "Enter weight in lbs: 180\n",
            "Enter height in inches: 74\n",
            "THE BMI of your weight 180.0 and height 74.0 is 23.1 \n",
            "\n"
          ]
        }
      ]
    }
  ]
}