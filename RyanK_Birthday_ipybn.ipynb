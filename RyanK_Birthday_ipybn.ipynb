{
  "nbformat": 4,
  "nbformat_minor": 0,
  "metadata": {
    "colab": {
      "name": "RyanK_Birthday.ipybn",
      "provenance": [],
      "authorship_tag": "ABX9TyMkmE8UWmxZkjyCIlZr9egK",
      "include_colab_link": true
    },
    "kernelspec": {
      "name": "python3",
      "display_name": "Python 3"
    },
    "language_info": {
      "name": "python"
    }
  },
  "cells": [
    {
      "cell_type": "markdown",
      "metadata": {
        "id": "view-in-github",
        "colab_type": "text"
      },
      "source": [
        "<a href=\"https://colab.research.google.com/github/rekrako/classexercises/blob/main/RyanK_Birthday_ipybn.ipynb\" target=\"_parent\"><img src=\"https://colab.research.google.com/assets/colab-badge.svg\" alt=\"Open In Colab\"/></a>"
      ]
    },
    {
      "cell_type": "markdown",
      "source": [
        "**Cell 1**\n",
        "1. Importing datetime library\n",
        "2. variable is today, assigning datetime function to it\n",
        "3. print statement using a string giving today's date\n"
      ],
      "metadata": {
        "id": "JIMLZlPzMVEE"
      }
    },
    {
      "cell_type": "code",
      "execution_count": null,
      "metadata": {
        "colab": {
          "base_uri": "https://localhost:8080/"
        },
        "id": "yoR0e8YUHphd",
        "outputId": "f51339c2-ab00-48a9-b66a-8b6afab12d3b"
      },
      "outputs": [
        {
          "output_type": "stream",
          "name": "stdout",
          "text": [
            "today is: 2022-08-23\n"
          ]
        }
      ],
      "source": [
        "import datetime as dt\n",
        "today=dt.date.today()\n",
        "print('today is:',today)"
      ]
    },
    {
      "cell_type": "markdown",
      "source": [
        "**Cell 2**\n",
        "1. assiging input function that requires an integer to several variables (bDay, bMonth, bYear)\n",
        "2. Assigning your birthdate to variable BD given your answer to three previous variables\n",
        "3. Calling on datetime function to print your birthday and birthdate"
      ],
      "metadata": {
        "id": "QZqsT4hMQeeK"
      }
    },
    {
      "cell_type": "code",
      "source": [
        "bDay=int(input('what day of the months were you born in: '))\n",
        "bMonth=int(input('what month were you born in: '))\n",
        "bYear=int(input('what year were you born in: '))\n",
        "BD=dt.date(bYear,bMonth,bDay)\n",
        "print(\"you were born on: \", BD.strftime('%A %B %d %Y'))"
      ],
      "metadata": {
        "colab": {
          "base_uri": "https://localhost:8080/"
        },
        "id": "VrjbqfdcKAw1",
        "outputId": "b5660d0c-58e8-46be-c830-ecacbdcc4ad2"
      },
      "execution_count": null,
      "outputs": [
        {
          "output_type": "stream",
          "name": "stdout",
          "text": [
            "what day of the months were you born in: 15\n",
            "what month were you born in: 03\n",
            "what year were you born in: 2001\n",
            "you were born on:  Thursday March 15 2001\n"
          ]
        }
      ]
    },
    {
      "cell_type": "markdown",
      "source": [
        "**Cell 3**\n",
        "1. Importing calendar library\n",
        "2. Printing the calendar year of your birthdate to confirm it is correct in previous cell"
      ],
      "metadata": {
        "id": "vl8-ZubcS-ZI"
      }
    },
    {
      "cell_type": "code",
      "source": [
        "import calendar\n",
        "print(calendar.calendar (2001))"
      ],
      "metadata": {
        "colab": {
          "base_uri": "https://localhost:8080/"
        },
        "id": "U0Bx7s3rK_b6",
        "outputId": "592dc932-2f2c-4bd3-aa08-e57bff830f2f"
      },
      "execution_count": null,
      "outputs": [
        {
          "output_type": "stream",
          "name": "stdout",
          "text": [
            "                                  2001\n",
            "\n",
            "      January                   February                   March\n",
            "Mo Tu We Th Fr Sa Su      Mo Tu We Th Fr Sa Su      Mo Tu We Th Fr Sa Su\n",
            " 1  2  3  4  5  6  7                1  2  3  4                1  2  3  4\n",
            " 8  9 10 11 12 13 14       5  6  7  8  9 10 11       5  6  7  8  9 10 11\n",
            "15 16 17 18 19 20 21      12 13 14 15 16 17 18      12 13 14 15 16 17 18\n",
            "22 23 24 25 26 27 28      19 20 21 22 23 24 25      19 20 21 22 23 24 25\n",
            "29 30 31                  26 27 28                  26 27 28 29 30 31\n",
            "\n",
            "       April                      May                       June\n",
            "Mo Tu We Th Fr Sa Su      Mo Tu We Th Fr Sa Su      Mo Tu We Th Fr Sa Su\n",
            "                   1          1  2  3  4  5  6                   1  2  3\n",
            " 2  3  4  5  6  7  8       7  8  9 10 11 12 13       4  5  6  7  8  9 10\n",
            " 9 10 11 12 13 14 15      14 15 16 17 18 19 20      11 12 13 14 15 16 17\n",
            "16 17 18 19 20 21 22      21 22 23 24 25 26 27      18 19 20 21 22 23 24\n",
            "23 24 25 26 27 28 29      28 29 30 31               25 26 27 28 29 30\n",
            "30\n",
            "\n",
            "        July                     August                  September\n",
            "Mo Tu We Th Fr Sa Su      Mo Tu We Th Fr Sa Su      Mo Tu We Th Fr Sa Su\n",
            "                   1             1  2  3  4  5                      1  2\n",
            " 2  3  4  5  6  7  8       6  7  8  9 10 11 12       3  4  5  6  7  8  9\n",
            " 9 10 11 12 13 14 15      13 14 15 16 17 18 19      10 11 12 13 14 15 16\n",
            "16 17 18 19 20 21 22      20 21 22 23 24 25 26      17 18 19 20 21 22 23\n",
            "23 24 25 26 27 28 29      27 28 29 30 31            24 25 26 27 28 29 30\n",
            "30 31\n",
            "\n",
            "      October                   November                  December\n",
            "Mo Tu We Th Fr Sa Su      Mo Tu We Th Fr Sa Su      Mo Tu We Th Fr Sa Su\n",
            " 1  2  3  4  5  6  7                1  2  3  4                      1  2\n",
            " 8  9 10 11 12 13 14       5  6  7  8  9 10 11       3  4  5  6  7  8  9\n",
            "15 16 17 18 19 20 21      12 13 14 15 16 17 18      10 11 12 13 14 15 16\n",
            "22 23 24 25 26 27 28      19 20 21 22 23 24 25      17 18 19 20 21 22 23\n",
            "29 30 31                  26 27 28 29 30            24 25 26 27 28 29 30\n",
            "                                                    31\n",
            "\n"
          ]
        }
      ]
    }
  ]
}